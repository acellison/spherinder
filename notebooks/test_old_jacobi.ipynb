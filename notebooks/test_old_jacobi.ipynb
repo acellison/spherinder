{
 "cells": [
  {
   "cell_type": "code",
   "execution_count": 10,
   "metadata": {},
   "outputs": [],
   "source": [
    "import numpy as np\n",
    "np.set_printoptions(precision=3,suppress=True)\n",
    "\n",
    "import dedalus_sphere.jacobi128 as Jacobi\n",
    "import dedalus_sphere.ball128 as Ball"
   ]
  },
  {
   "cell_type": "code",
   "execution_count": 12,
   "metadata": {},
   "outputs": [
    {
     "name": "stdout",
     "output_type": "stream",
     "text": [
      "[ 0.564 -0.798  0.798 -0.798  0.798 -0.798]\n",
      "[0.564 0.798 0.798 0.798 0.798 0.798]\n",
      "[ 1.596 -3.192  4.787 -6.383  7.979 -9.575]\n",
      "[1.596 3.192 4.787 6.383 7.979 9.575]\n",
      "[   4.472  -16.733   42.426  -87.75   159.625 -265.631]\n",
      "[ 4.472  8.367 12.728 17.55  22.804 28.46 ]\n"
     ]
    }
   ],
   "source": [
    "n = 5\n",
    "# Boundary with Chebyshev T Polynomials\n",
    "a, b = -1/2, -1/2\n",
    "print(Jacobi.operator('z=-1',n,a,b))\n",
    "print(Jacobi.operator('z=+1',n,a,b))\n",
    "\n",
    "# Boundary with Chebyshev U Polynomials\n",
    "a, b = +1/2, +1/2\n",
    "print(Jacobi.operator('z=-1',n,a,b))\n",
    "print(Jacobi.operator('z=+1',n,a,b))\n",
    "\n",
    "# Different parameters\n",
    "a, b = 1, 3\n",
    "print(Jacobi.operator('z=-1',n,a,b))\n",
    "print(Jacobi.operator('z=+1',n,a,b))\n",
    "\n"
   ]
  },
  {
   "cell_type": "code",
   "execution_count": null,
   "metadata": {},
   "outputs": [],
   "source": []
  },
  {
   "cell_type": "code",
   "execution_count": null,
   "metadata": {},
   "outputs": [],
   "source": []
  }
 ],
 "metadata": {
  "kernelspec": {
   "display_name": "Python 3",
   "language": "python",
   "name": "python3"
  },
  "language_info": {
   "codemirror_mode": {
    "name": "ipython",
    "version": 3
   },
   "file_extension": ".py",
   "mimetype": "text/x-python",
   "name": "python",
   "nbconvert_exporter": "python",
   "pygments_lexer": "ipython3",
   "version": "3.7.6"
  }
 },
 "nbformat": 4,
 "nbformat_minor": 4
}
