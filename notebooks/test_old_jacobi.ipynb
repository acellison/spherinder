{
 "cells": [
  {
   "cell_type": "code",
   "execution_count": null,
   "metadata": {},
   "outputs": [],
   "source": [
    "import numpy as np\n",
    "np.set_printoptions(precision=3,suppress=True)\n",
    "\n",
    "import dedalus_sphere.jacobi128 as Jacobi\n",
    "import dedalus_sphere.ball128 as Ball"
   ]
  },
  {
   "cell_type": "code",
   "execution_count": null,
   "metadata": {},
   "outputs": [],
   "source": [
    "n = 5\n",
    "# Boundary with Chebyshev T Polynomials\n",
    "a, b = -1/2, -1/2\n",
    "print(Jacobi.operator('z=-1',n,a,b))\n",
    "print(Jacobi.operator('z=+1',n,a,b))\n",
    "\n",
    "# Boundary with Chebyshev U Polynomials\n",
    "a, b = +1/2, +1/2\n",
    "print(Jacobi.operator('z=-1',n,a,b))\n",
    "print(Jacobi.operator('z=+1',n,a,b))\n",
    "\n",
    "# Different parameters\n",
    "a, b = 1, 3\n",
    "print(Jacobi.operator('z=-1',n,a,b))\n",
    "print(Jacobi.operator('z=+1',n,a,b))\n",
    "\n"
   ]
  },
  {
   "cell_type": "code",
   "execution_count": null,
   "metadata": {},
   "outputs": [],
   "source": []
  },
  {
   "cell_type": "code",
   "execution_count": null,
   "metadata": {},
   "outputs": [],
   "source": []
  }
 ],
 "metadata": {
  "kernelspec": {
   "display_name": "Python 3",
   "language": "python",
   "name": "python3"
  },
  "language_info": {
   "codemirror_mode": {
    "name": "ipython",
    "version": 3
   },
   "file_extension": ".py",
   "mimetype": "text/x-python",
   "name": "python",
   "nbconvert_exporter": "python",
   "pygments_lexer": "ipython3",
   "version": "3.7.6"
  }
 },
 "nbformat": 4,
 "nbformat_minor": 4
}
