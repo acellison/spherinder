{
 "cells": [
  {
   "cell_type": "code",
   "execution_count": null,
   "metadata": {},
   "outputs": [],
   "source": [
    "import numpy as np\n",
    "import scipy as sp\n",
    "import scipy.sparse as sparse\n",
    "import scipy.linalg as sla\n",
    "import scipy.sparse.linalg as spla\n",
    "import matplotlib.pyplot as plt\n",
    "%matplotlib inline\n",
    "\n",
    "np.set_printoptions(precision=2,suppress=True)\n",
    "\n",
    "# Add '../' to path\n",
    "import os, sys\n",
    "module_path = os.path.abspath(os.path.join('../paper'))\n",
    "if module_path not in sys.path:\n",
    "    sys.path.append(module_path)\n",
    "\n",
    "import spherinder.operators as sph\n",
    "import spherinder_linear_onset as slo"
   ]
  },
  {
   "cell_type": "code",
   "execution_count": null,
   "metadata": {},
   "outputs": [],
   "source": [
    "m, Lmax, Nmax = 1, 100, 100\n",
    "Ekman, Prandtl, Rayleigh = 1, 1, 1\n",
    "\n",
    "M, L = slo.matrices_galerkin(m, Lmax, Nmax, Ekman, Prandtl, Rayleigh)"
   ]
  },
  {
   "cell_type": "code",
   "execution_count": null,
   "metadata": {},
   "outputs": [],
   "source": [
    "fig, ax = plt.subplots(1,2,figsize=(9,4))\n",
    "ax[0].spy(L, markersize=.1)\n",
    "ax[1].spy(M, markersize=.1)\n",
    "ax[0].set_title('L')\n",
    "ax[1].set_title('M');"
   ]
  },
  {
   "cell_type": "code",
   "execution_count": null,
   "metadata": {},
   "outputs": [],
   "source": [
    "# Interleave the field variables within each mode\n",
    "varindices, eqnindices = slo.permutation_indices(Lmax, Nmax)\n",
    "L1 = L[:,varindices]\n",
    "L1 = L1[eqnindices,:]\n",
    "\n",
    "fig, ax = plt.subplots(1,2,figsize=(9,4))\n",
    "ax[0].spy(L1, markersize=.1)\n",
    "ax[1].spy(L1, markersize=.1)\n",
    "ax[1].set_xlim([0,500])\n",
    "ax[1].set_ylim([300,0])"
   ]
  },
  {
   "cell_type": "code",
   "execution_count": null,
   "metadata": {},
   "outputs": [],
   "source": [
    "def permutation_indices_2(Lmax, Nmax):\n",
    "    nvar = Lmax*Nmax\n",
    "    neqn = (Lmax+2)*(Nmax+1)\n",
    "    ntau = 2*(Nmax+1)+Lmax\n",
    "\n",
    "    varindices = []\n",
    "    for ell in range(Lmax):\n",
    "        variables = [list(range(ell*Nmax+i*nvar,(ell+1)*Nmax+i*nvar)) for i in range(5)]\n",
    "        varindices += np.ravel(variables).tolist()\n",
    "    vartau = range(5*nvar,5*(nvar+ntau))\n",
    "    varindices = varindices + list(vartau)\n",
    "\n",
    "    eqnindices = []\n",
    "    for ell in range(Lmax+2):\n",
    "        equations = [list(range(ell*(Nmax+1)+i*neqn,(ell+1)*(Nmax+1)+i*neqn)) for i in range(5)]\n",
    "        eqnindices += np.ravel(equations).tolist()\n",
    "\n",
    "    return varindices, eqnindices"
   ]
  },
  {
   "cell_type": "code",
   "execution_count": null,
   "metadata": {},
   "outputs": [],
   "source": [
    "# Interleave the field variables within each mode\n",
    "varindices, eqnindices = permutation_indices_2(Lmax, Nmax)\n",
    "L2 = L[:,varindices]\n",
    "L2 = L2[eqnindices,:]\n",
    "\n",
    "fig, ax = plt.subplots(1,2,figsize=(9,4))\n",
    "ax[0].spy(L2, markersize=.1)\n",
    "ax[1].spy(L2, markersize=.1)\n",
    "ax[1].set_xlim([0,500])\n",
    "ax[1].set_ylim([300,0])\n"
   ]
  },
  {
   "cell_type": "code",
   "execution_count": null,
   "metadata": {},
   "outputs": [],
   "source": [
    "# Slow!\n",
    "if False:\n",
    "    lu = spla.splu(L.tocsc(), permc_spec='NATURAL')\n",
    "    l, u = lu.L, lu.U\n",
    "\n",
    "    print(\"Default ordering, NATURAL\")\n",
    "    print(\"  Lower sparsity: {}\".format(len(np.nonzero(l)[0])/np.prod(np.shape(L))))\n",
    "    print(\"  Upper sparsity: {}\".format(len(np.nonzero(u)[0])/np.prod(np.shape(L))))\n",
    "\n",
    "    markersize = .005\n",
    "    fig, ax = plt.subplots(1,2,figsize=(9,4))\n",
    "    ax[0].spy(l, markersize=markersize)\n",
    "    ax[1].spy(u, markersize=markersize)\n"
   ]
  },
  {
   "cell_type": "code",
   "execution_count": null,
   "metadata": {},
   "outputs": [],
   "source": [
    "lu = spla.splu(L.tocsc(), permc_spec='COLAMD')\n",
    "l, u = lu.L, lu.U\n",
    "\n",
    "print(\"Default ordering, COLAMD\")\n",
    "print(\"  Lower sparsity: {}\".format(len(np.nonzero(l)[0])/np.prod(np.shape(L))))\n",
    "print(\"  Upper sparsity: {}\".format(len(np.nonzero(u)[0])/np.prod(np.shape(L))))\n",
    "\n",
    "markersize = .005\n",
    "fig, ax = plt.subplots(1,2,figsize=(9,4))\n",
    "ax[0].spy(l, markersize=markersize)\n",
    "ax[1].spy(u, markersize=markersize)\n"
   ]
  },
  {
   "cell_type": "code",
   "execution_count": null,
   "metadata": {},
   "outputs": [],
   "source": [
    "lu = spla.splu(L1.tocsc(), permc_spec='NATURAL')\n",
    "l, u = lu.L, lu.U\n",
    "\n",
    "print(\"Variable inner ordering, NATURAL\")\n",
    "print(\"  Lower sparsity: {}\".format(len(np.nonzero(l)[0])/np.prod(np.shape(L))))\n",
    "print(\"  Upper sparsity: {}\".format(len(np.nonzero(u)[0])/np.prod(np.shape(L))))\n",
    "\n",
    "markersize = .005\n",
    "fig, ax = plt.subplots(1,2,figsize=(9,4))\n",
    "ax[0].spy(l, markersize=markersize)\n",
    "ax[1].spy(u, markersize=markersize)\n"
   ]
  },
  {
   "cell_type": "code",
   "execution_count": null,
   "metadata": {},
   "outputs": [],
   "source": [
    "lu = spla.splu(L1.tocsc(), permc_spec='COLAMD')\n",
    "l, u = lu.L, lu.U\n",
    "\n",
    "print(\"Variable inner ordering, COLAMD\")\n",
    "print(\"  Lower sparsity: {}\".format(len(np.nonzero(l)[0])/np.prod(np.shape(L))))\n",
    "print(\"  Upper sparsity: {}\".format(len(np.nonzero(u)[0])/np.prod(np.shape(L))))\n",
    "\n",
    "markersize = .005\n",
    "fig, ax = plt.subplots(1,2,figsize=(9,4))\n",
    "ax[0].spy(l, markersize=markersize)\n",
    "ax[1].spy(u, markersize=markersize)\n"
   ]
  },
  {
   "cell_type": "code",
   "execution_count": null,
   "metadata": {},
   "outputs": [],
   "source": []
  }
 ],
 "metadata": {
  "kernelspec": {
   "display_name": "Python 3",
   "language": "python",
   "name": "python3"
  },
  "language_info": {
   "codemirror_mode": {
    "name": "ipython",
    "version": 3
   },
   "file_extension": ".py",
   "mimetype": "text/x-python",
   "name": "python",
   "nbconvert_exporter": "python",
   "pygments_lexer": "ipython3",
   "version": "3.7.6"
  }
 },
 "nbformat": 4,
 "nbformat_minor": 4
}
