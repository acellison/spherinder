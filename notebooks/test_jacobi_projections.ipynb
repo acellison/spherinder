{
 "cells": [
  {
   "cell_type": "markdown",
   "metadata": {},
   "source": [
    "# Projection onto the Boundary\n",
    "\n",
    "Our representation of functions takes the form\n",
    "$$ f^m(\\eta, t) = (1+t)^m \\sum_{l} (1-t)^{\\frac{l}{2}} P_{l}(\\eta) \\sum_k \\hat{F}_{l,k}^m P_k^{\\left( l+\\frac{1}{2},m \\right)}(t) $$\n",
    "\n",
    "If we are interested in the value of $f$ at the spherinder boundary $\\eta = \\pm 1$ we must compute\n",
    "$$ f^m(\\eta = \\pm 1, t) = (1+t)^{\\frac{m}{2}} \\sum_{l} (1-t)^{\\frac{l}{2}} P_{l}(\\pm 1) \\sum_k \\hat{F}_{l,k}^m P_k^{\\left( l+\\frac{1}{2},m \\right)}(t). $$\n",
    "\n",
    "We can project out the $t$ dependence using an inner product with weight function $d\\mu = \\sqrt{1-t} dt$.  We then project onto the modes as follows:\n",
    "\\begin{align}\n",
    "\\left\\langle \\Psi_{m,L,K}, f \\right\\rangle \n",
    "    &\\equiv \\left\\langle (1+t)^{\\frac{m}{2}} (1-t)^{\\frac{L}{2}} P_K^{\\left( L + \\frac{1}{2}, m \\right)}(t), f \\right\\rangle \\\\\n",
    "    &= \\sum_l P_l(\\eta) \\sum_k \\hat{F}_{l,k}^m \\int_{-1}^1 { (1+t)^m (1-t)^{\\frac{l+L+1}{2}} P_K^{\\left( L+\\frac{1}{2},m \\right)}(t) P_k^{\\left( l+\\frac{1}{2},m \\right)}(t) dt}\n",
    "\\end{align}\n",
    "The final integral involves a modified weight function $w(t) = (1+t)^m (1-t)^{\\frac{l+L+1}{2}}$.  The Jacobi polynomials orthogonal under this weight function are $P_n^{\\left(\\frac{l+L+1}{2}, m\\right)}(t)$.  We therefore use Jacobi parameters $(a,b) = \\left(\\frac{l+L+1}{2}, m\\right)$ to compute the quadrature for the projection coefficients\n",
    "$$ a_{L,K}^{l,k} \\equiv \\int_{-1}^1 { (1+t)^m (1-t)^{\\frac{l+L+1}{2}} P_K^{\\left( L+\\frac{1}{2},m \\right)}(t) P_k^{\\left( l+\\frac{1}{2},m \\right)}(t) dt}. $$\n",
    "\n",
    "Then our projection takes the form\n",
    "\\begin{align}\n",
    "\\left\\langle \\Psi_{m,L,K}, f \\right\\rangle \n",
    "    &= \\sum_l P_l(\\eta) \\sum_k a_{L,K}^{l,k} \\hat{F}_{l,k}^m.\n",
    "\\end{align}\n"
   ]
  },
  {
   "cell_type": "code",
   "execution_count": null,
   "metadata": {},
   "outputs": [],
   "source": [
    "import dedalus_sphere.jacobi as Jacobi\n",
    "import numpy as np\n",
    "import matplotlib.pyplot as plt"
   ]
  },
  {
   "cell_type": "code",
   "execution_count": null,
   "metadata": {},
   "outputs": [],
   "source": [
    "def project_mode(m, ell, k, ellp, kp, alpha=0, sigma=0):\n",
    "    \"\"\"Project basis modes onto not-necessarily-orthogonal components\"\"\"\n",
    "    kmax = max(max(k,kp)+1,2)\n",
    "    a, b = (ell+ellp)/2+alpha+1/2, m+sigma\n",
    "    z, w = Jacobi.quadrature(kmax,a,b)\n",
    "\n",
    "    plk  = Jacobi.polynomials(k +1,ell +alpha+1/2,m+sigma,z)[k]\n",
    "    plkp = Jacobi.polynomials(kp+1,ellp+alpha+1/2,m+sigma,z)[kp]\n",
    "\n",
    "    return np.sum(w*plk*plkp)"
   ]
  },
  {
   "cell_type": "code",
   "execution_count": null,
   "metadata": {},
   "outputs": [],
   "source": [
    "def assert_close(a,b,tol=1e-15,abort=True):\n",
    "    error = np.max(np.abs(a-b))\n",
    "    if error > tol:\n",
    "        print(\"Warning: not close.  error = {}\".format(error))\n",
    "    if abort:\n",
    "        assert(error <= tol)"
   ]
  },
  {
   "cell_type": "code",
   "execution_count": null,
   "metadata": {},
   "outputs": [],
   "source": [
    "m = 1\n",
    "\n",
    "tol = 1.2e-15\n",
    "assert_close(project_mode(m,0, 0,0, 0),1.0,tol)\n",
    "assert_close(project_mode(m,0, 4,0, 2),0.0,tol)\n",
    "assert_close(project_mode(m,3,20,3,20),1.0,tol)\n",
    "\n",
    "assert_close(project_mode(m,0,0,1,0),project_mode(m,1,0,0,0))\n",
    "\n",
    "print(project_mode(m,0,0,1,0))\n",
    "print(project_mode(m,0,0,1,1))\n",
    "print(project_mode(m,0,0,1,2))\n",
    "print(project_mode(m,0,0,1,3))\n",
    "\n",
    "print(project_mode(m,0,1,1,0))\n",
    "print(project_mode(m,0,1,1,1))\n",
    "print(project_mode(m,0,1,1,2))\n",
    "print(project_mode(m,0,1,1,3))\n"
   ]
  },
  {
   "cell_type": "code",
   "execution_count": null,
   "metadata": {},
   "outputs": [],
   "source": []
  }
 ],
 "metadata": {
  "kernelspec": {
   "display_name": "Python 3 (ipykernel)",
   "language": "python",
   "name": "python3"
  },
  "language_info": {
   "codemirror_mode": {
    "name": "ipython",
    "version": 3
   },
   "file_extension": ".py",
   "mimetype": "text/x-python",
   "name": "python",
   "nbconvert_exporter": "python",
   "pygments_lexer": "ipython3",
   "version": "3.8.12"
  }
 },
 "nbformat": 4,
 "nbformat_minor": 4
}
