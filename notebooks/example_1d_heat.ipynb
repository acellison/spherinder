{
 "cells": [
  {
   "cell_type": "markdown",
   "metadata": {},
   "source": [
    "# 1D Heat Equation Eigenvalue Problem\n",
    "\\begin{align}\n",
    "u_t &= u_{xx} \\\\\n",
    "u(\\pm 1) &= 0\n",
    "\\end{align}"
   ]
  },
  {
   "cell_type": "code",
   "execution_count": null,
   "metadata": {},
   "outputs": [],
   "source": [
    "import dedalus_sphere.jacobi as Jacobi\n",
    "\n",
    "import numpy as np\n",
    "import scipy as sp\n",
    "import scipy.sparse as sparse\n",
    "import matplotlib.pyplot as plt\n",
    "%matplotlib notebook\n",
    "\n",
    "np.set_printoptions(precision=3,suppress=True)\n",
    "\n",
    "from spherinder.eigtools import eigsort\n",
    "\n",
    "# Jacobi operators\n",
    "A = Jacobi.operator('A')\n",
    "B = Jacobi.operator('B')\n",
    "C = Jacobi.operator('C')\n",
    "D = Jacobi.operator('D')\n",
    "Id = Jacobi.operator('Id')\n"
   ]
  },
  {
   "cell_type": "code",
   "execution_count": null,
   "metadata": {},
   "outputs": [],
   "source": [
    "# 1D heat equation eigenvalues\n",
    "# u_t = u_{zz}\n",
    "Lmax, a, b = 256, 0, 0"
   ]
  },
  {
   "cell_type": "code",
   "execution_count": null,
   "metadata": {},
   "outputs": [],
   "source": [
    "evalues_analytic = ((np.arange(Lmax)+1)*np.pi/2)**2"
   ]
  },
  {
   "cell_type": "code",
   "execution_count": null,
   "metadata": {},
   "outputs": [],
   "source": [
    "# Base matrices\n",
    "L = (D(+1) @ D(+1))(Lmax,a,b)\n",
    "L = sparse.vstack([L, np.zeros((2,Lmax))])\n",
    "M = ((A(+1) @ B(+1))**2)(Lmax,a,b)\n",
    "\n",
    "\n",
    "# Tau method\n",
    "bc = Jacobi.polynomials(Lmax,a,b,np.array([-1.0,1.0])).T\n",
    "Lt, Mt = L.tocsr(), M\n",
    "Mt[-2:,:] = 0\n",
    "Lt[-2:,:] = bc\n",
    "\n",
    "evalues_tau, evectors_tau = eigsort(Lt.todense(), -Mt.todense())\n",
    "\n",
    "\n",
    "# Galerkin method\n",
    "which = 'bottom'\n",
    "\n",
    "bc = Jacobi.polynomials(Lmax,a,b,1)\n",
    "if which == 'top':\n",
    "    S = sparse.diags([np.concatenate(([1,1], bc[:-2])), -bc[2:]], [0, 2])\n",
    "    Lg, Mg = L @ S, M @ S\n",
    "    row = sparse.eye(2,Lmax)\n",
    "    col = ((A(+1)@B(+1))**2)(Lmax,a,b)[:,-2:]\n",
    "    zer = np.zeros((2,2))\n",
    "    Lg = sparse.bmat([[Lg,  col],[  row,zer]])\n",
    "    Mg = sparse.bmat([[Mg,0*col],[0*row,zer]])\n",
    "    \n",
    "elif which == 'bottom':\n",
    "    S = sparse.diags([np.concatenate((bc[2:],[1,1])), -bc[:-2]], [0, -2])\n",
    "    Lg, Mg = L @ S, M @ S\n",
    "    Mg[-2:,:] = 0\n",
    "    Lg[-2:,:] = 0\n",
    "    Lg[-2,-2] = 1\n",
    "    Lg[-1,-1] = 1\n",
    "else:\n",
    "    raise ValueError('bad which')\n",
    "\n",
    "evalues_galerkin, evectors_galerkin = eigsort(Lg.todense(), -Mg.todense())\n"
   ]
  },
  {
   "cell_type": "code",
   "execution_count": null,
   "metadata": {},
   "outputs": [],
   "source": [
    "def error(vals):\n",
    "    n = min(len(vals), len(evalues_analytic))\n",
    "    return np.abs(vals[:n] - evalues_analytic[:n])/np.abs(evalues_analytic[:n])\n",
    "\n",
    "errors_tau = error(evalues_tau)\n",
    "errors_galerkin = error(evalues_galerkin)\n",
    "\n",
    "plt.figure()\n",
    "plt.semilogy(errors_tau, '.', label='tau')\n",
    "plt.semilogy(errors_galerkin, '.', label='galerkin')\n",
    "plt.legend()\n",
    "plt.xlabel('eigenvalue number')\n",
    "plt.ylabel('relative error')\n",
    "plt.title('Heat Equation Eigenvalue Errors')\n",
    "plt.grid()"
   ]
  },
  {
   "cell_type": "code",
   "execution_count": null,
   "metadata": {},
   "outputs": [],
   "source": []
  }
 ],
 "metadata": {
  "kernelspec": {
   "display_name": "Python 3",
   "language": "python",
   "name": "python3"
  },
  "language_info": {
   "codemirror_mode": {
    "name": "ipython",
    "version": 3
   },
   "file_extension": ".py",
   "mimetype": "text/x-python",
   "name": "python",
   "nbconvert_exporter": "python",
   "pygments_lexer": "ipython3",
   "version": "3.7.6"
  }
 },
 "nbformat": 4,
 "nbformat_minor": 4
}
