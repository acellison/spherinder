{
 "cells": [
  {
   "cell_type": "code",
   "execution_count": null,
   "metadata": {},
   "outputs": [],
   "source": [
    "import numpy as np\n",
    "import scipy.sparse as sparse"
   ]
  },
  {
   "cell_type": "code",
   "execution_count": null,
   "metadata": {},
   "outputs": [],
   "source": [
    "# Construct the Galerkin recombination matrix so that u = S @ v,\n",
    "# where the basis satisfies\n",
    "#     Phi_{0} = T_0,\n",
    "#     Phi_{1} = T_1,\n",
    "#     Phi_{n} = T_n - T_{n-2},  2 <= n <= Nmax.\n",
    "# When we apply the matrix S on the right of the tau lines we\n",
    "# zero out all columns of the tau lines except the first two,\n",
    "# where we are left with a non-singular 2x2 block\n",
    "Nmax = 6\n",
    "bc = np.ones(Nmax)\n",
    "S = sparse.diags([np.concatenate(([1,1],bc[:-2])), -bc[2:]], [0, 2])\n",
    "\n",
    "# The tau lines are the Chebyshev polynomials evaluated at +/-1,\n",
    "# where we choose the normalization so that T_n(1) = 1\n",
    "one = np.ones(Nmax).reshape(1,Nmax)\n",
    "alt = np.array([(-1)**n for n in range(Nmax)]).reshape(1,Nmax)\n",
    "taulines = np.concatenate([one,alt],axis=0)\n",
    "\n",
    "print(S.todense())\n",
    "print()\n",
    "\n",
    "print(taulines)\n",
    "# Prints [[ 1.  1.  1.  1.  1.  1.]\n",
    "#         [ 1. -1.  1. -1.  1. -1.]]\n",
    "print(taulines @ S)\n",
    "# Prints [[ 1.  1.  0.  0.  0.  0.]\n",
    "#         [ 1. -1.  0.  0.  0.  0.]]\n"
   ]
  },
  {
   "cell_type": "code",
   "execution_count": null,
   "metadata": {},
   "outputs": [],
   "source": []
  }
 ],
 "metadata": {
  "kernelspec": {
   "display_name": "Python 3",
   "language": "python",
   "name": "python3"
  },
  "language_info": {
   "codemirror_mode": {
    "name": "ipython",
    "version": 3
   },
   "file_extension": ".py",
   "mimetype": "text/x-python",
   "name": "python",
   "nbconvert_exporter": "python",
   "pygments_lexer": "ipython3",
   "version": "3.7.6"
  }
 },
 "nbformat": 4,
 "nbformat_minor": 4
}
