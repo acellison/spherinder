{
 "cells": [
  {
   "cell_type": "code",
   "execution_count": null,
   "metadata": {},
   "outputs": [],
   "source": [
    "import numpy as np\n",
    "import scipy as sp\n",
    "import scipy.sparse as sparse\n",
    "import matplotlib.pyplot as plt\n",
    "%matplotlib inline\n",
    "\n",
    "np.set_printoptions(precision=4,suppress=True)\n",
    "\n",
    "from dedalus_sphere import jacobi as Jacobi\n",
    "\n",
    "from spherinder import config\n",
    "config.internal_dtype = 'float128'\n",
    "\n",
    "import spherinder.operators as sph\n",
    "from spherinder.operators import Basis, plotfield"
   ]
  },
  {
   "cell_type": "code",
   "execution_count": null,
   "metadata": {},
   "outputs": [],
   "source": [
    "ns, neta = 500, 501\n",
    "s, eta = np.linspace(0,1,ns), np.linspace(-1,1,neta)\n",
    "\n",
    "g_disable_basis_plots = False"
   ]
  },
  {
   "cell_type": "code",
   "execution_count": null,
   "metadata": {},
   "outputs": [],
   "source": [
    "def plot_basis(basis, ell, s, eta):\n",
    "    Nmax = basis.Nmax\n",
    "    ncols = 3\n",
    "    nrows = (Nmax+ncols-1)//ncols\n",
    "    fig, plot_axes = plt.subplots(nrows,ncols,figsize=(11,4*nrows))\n",
    "    row, col = 0, 0\n",
    "    for k in range(Nmax):\n",
    "        plotfield(s, eta, basis[ell,k], fig, plot_axes[row][col])\n",
    "        col += 1\n",
    "        if col == ncols:\n",
    "            col = 0\n",
    "            row += 1\n",
    "\n",
    "\n",
    "def plot_radial(basis, ell, s, eta, etavalues):\n",
    "    if np.isscalar(etavalues): etavalues = [etavalues]\n",
    "    neta = len(etavalues)\n",
    "\n",
    "    fig, plot_axes = plt.subplots(1,neta,figsize=(4*neta,4))\n",
    "    if neta == 1: plot_axes = [plot_axes]\n",
    "    for i in range(neta):\n",
    "        etaindex = np.argmin(np.abs(eta-etavalues[i]))\n",
    "        for k in range(basis.Nmax):\n",
    "            plot_axes[i].plot(s,basis[ell,k][etaindex,:])\n",
    "        plot_axes[i].grid()\n",
    "        plot_axes[i].set_title('ell = {}, η = {}'.format(ell, eta[etaindex]))\n",
    "        plot_axes[i].set_xlabel('s')\n",
    "        plot_axes[i].grid(True)\n"
   ]
  },
  {
   "cell_type": "code",
   "execution_count": null,
   "metadata": {},
   "outputs": [],
   "source": [
    "m, Lmax, Nmax = 1, 13, 6\n",
    "basis = Basis(s, eta, m, Lmax, Nmax, sigma=0, alpha=0, galerkin=True)"
   ]
  },
  {
   "cell_type": "code",
   "execution_count": null,
   "metadata": {},
   "outputs": [],
   "source": [
    "ell = 0\n",
    "\n",
    "if not g_disable_basis_plots:\n",
    "    plot_basis(basis, ell, s, eta)\n",
    "    plot_radial(basis, ell, s, eta, [0.0, 0.5, 1.0])"
   ]
  },
  {
   "cell_type": "code",
   "execution_count": null,
   "metadata": {},
   "outputs": [],
   "source": [
    "ell = 1\n",
    "\n",
    "if not g_disable_basis_plots:\n",
    "    plot_basis(basis, ell, s, eta)\n",
    "    plot_radial(basis, ell, s, eta, [0.0, 0.5, 1.0])"
   ]
  },
  {
   "cell_type": "code",
   "execution_count": null,
   "metadata": {},
   "outputs": [],
   "source": [
    "ell = 2\n",
    "\n",
    "if not g_disable_basis_plots:\n",
    "    plot_basis(basis, ell, s, eta)\n",
    "    plot_radial(basis, ell, s, eta, [0.0, 0.5, 1.0])"
   ]
  },
  {
   "cell_type": "code",
   "execution_count": null,
   "metadata": {},
   "outputs": [],
   "source": [
    "ell = 3\n",
    "\n",
    "if not g_disable_basis_plots:\n",
    "    plot_basis(basis, ell, s, eta)\n",
    "    plot_radial(basis, ell, s, eta, [0.0, 0.5, 1.0])"
   ]
  },
  {
   "cell_type": "code",
   "execution_count": null,
   "metadata": {},
   "outputs": [],
   "source": [
    "ell = 4\n",
    "\n",
    "if not g_disable_basis_plots:\n",
    "    plot_basis(basis, ell, s, eta)\n",
    "    plot_radial(basis, ell, s, eta, [0.0, 0.5, 1.0])"
   ]
  },
  {
   "cell_type": "code",
   "execution_count": null,
   "metadata": {},
   "outputs": [],
   "source": [
    "ell = 5\n",
    "\n",
    "if not g_disable_basis_plots:\n",
    "    plot_basis(basis, ell, s, eta)\n",
    "    plot_radial(basis, ell, s, eta, [0.0, 0.5, 1.0])"
   ]
  },
  {
   "cell_type": "code",
   "execution_count": null,
   "metadata": {},
   "outputs": [],
   "source": [
    "ell = 12\n",
    "\n",
    "if not g_disable_basis_plots:\n",
    "    plot_basis(basis, ell, s, eta)\n",
    "    plot_radial(basis, ell, s, eta, [0.0, 0.5, 1.0])"
   ]
  },
  {
   "cell_type": "code",
   "execution_count": null,
   "metadata": {},
   "outputs": [],
   "source": [
    "A = Jacobi.operator('A')\n",
    "B = Jacobi.operator('B')"
   ]
  },
  {
   "cell_type": "code",
   "execution_count": null,
   "metadata": {},
   "outputs": [],
   "source": [
    "Lmax, alpha = 8, 0\n",
    "\n",
    "bc = Jacobi.polynomials(Lmax,alpha,alpha,1.0)\n",
    "a_ell_0 = bc[2:]/bc[:-2]\n",
    "\n",
    "bc = Jacobi.polynomials(Lmax,alpha+1,alpha+1,1.0)\n",
    "a_ell_1 = bc[2:]/bc[:-2]\n",
    "\n",
    "eta = np.linspace(-1.,1.,100)\n",
    "Peta = Jacobi.polynomials(Lmax,alpha,alpha,eta).T\n",
    "peta0 = Peta[:,2:] - a_ell_0 * Peta[:,:-2]\n",
    "Peta = Jacobi.polynomials(Lmax,alpha+1,alpha+1,eta).T\n",
    "peta1 = Peta[:,2:] - a_ell_1 * Peta[:,:-2]\n",
    "\n",
    "fig, ax = plt.subplots(1,2,figsize=(9,4))\n",
    "ax[0].plot(eta,peta0)\n",
    "ax[1].plot(eta,peta1)\n",
    "\n",
    "AB = (A(+1) @ B(+1))(Lmax,alpha,alpha).todense()\n",
    "alpha_ell = np.diag(AB)\n",
    "\n",
    "ratio = alpha_ell[:-2]/alpha_ell[2:] * a_ell_0\n",
    "debug = lambda name: print(name + ' = ' + repr(eval(name)))\n",
    "debug('a_ell_0')\n",
    "debug('a_ell_1')\n",
    "debug('ratio')\n",
    "debug('ratio / a_ell_1')"
   ]
  },
  {
   "cell_type": "code",
   "execution_count": null,
   "metadata": {},
   "outputs": [],
   "source": [
    "m, Lmax, Nmax, alpha, sigma = 1, 5, 5, 1, 0\n",
    "Op = sph.operator('1-r**2')(m, Lmax, Nmax, alpha, sigma)\n",
    "\n",
    "print(np.shape(Op))\n",
    "print(np.shape(sph.remove_zero_rows(Op)))"
   ]
  },
  {
   "cell_type": "code",
   "execution_count": null,
   "metadata": {},
   "outputs": [],
   "source": [
    "ABd = (A(-1) @ B(-1))(Lmax,alpha,alpha).todense()\n",
    "zmat = np.diag(np.diag(ABd,-2),-2)[:,:Lmax]\n",
    "print(ABd)\n",
    "print(zmat)\n"
   ]
  },
  {
   "cell_type": "code",
   "execution_count": null,
   "metadata": {},
   "outputs": [],
   "source": []
  }
 ],
 "metadata": {
  "kernelspec": {
   "display_name": "Python 3",
   "language": "python",
   "name": "python3"
  },
  "language_info": {
   "codemirror_mode": {
    "name": "ipython",
    "version": 3
   },
   "file_extension": ".py",
   "mimetype": "text/x-python",
   "name": "python",
   "nbconvert_exporter": "python",
   "pygments_lexer": "ipython3",
   "version": "3.7.6"
  }
 },
 "nbformat": 4,
 "nbformat_minor": 4
}
