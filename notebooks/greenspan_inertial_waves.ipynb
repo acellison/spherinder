{
 "cells": [
  {
   "cell_type": "markdown",
   "metadata": {},
   "source": [
    "# Inertial Waves Analytic Solutions\n",
    "\n",
    "The inertial waves problem is given by\n",
    "\\begin{align}\n",
    "i \\lambda \\vec{u} + 2 \\vec{e}_z \\times \\vec{u} &= -\\nabla p \\\\\n",
    "\\nabla \\cdot \\vec{u} &= 0\n",
    "\\end{align}\n",
    "with $\\vec{e}_r \\cdot \\vec{u} = 0$ at $r = 1$.\n",
    "\n",
    "The pressure is then given by\n",
    "\\begin{align}\n",
    "\\lambda^2 \\nabla^2 p - 4 \\partial_z^2 p = 0.\n",
    "\\end{align}\n",
    "\n",
    "Greenspan demonstrates inertial waves in the sphere are separable in the oblate spheroidal\n",
    "coordinates\n",
    "\\begin{align}\n",
    "r &= \\left( \\frac{4}{4-\\lambda^2} - \\eta^2 \\right)^\\frac{1}{2} \\left(1 - \\mu^2 \\right)^\\frac{1}{2} \\\\\n",
    "z &= \\left( \\frac{4}{\\lambda^2} - 1 \\right)^\\frac{1}{2} \\eta \\mu\n",
    "\\end{align}\n",
    "such that the pressure satisfies\n",
    "\\begin{align}\n",
    "P_{nkm} = \\Psi_{nkm}(r,z) e^{i m \\phi} = P_n^{|m|} \\left( \\eta/c_{nkm} \\right) P_n^{|m|}(\\mu) e^{i m \\phi}\n",
    "\\end{align}\n",
    "where\n",
    "$$ c_{nkm} = \\left( 1 - \\frac{1}{4} \\lambda_{nkm}^2 \\right)^{-\\frac{1}{2}} $$\n",
    "and $\\lambda_{nkm}$ is the $k$th eigenvalue solution of\n",
    "\\begin{align}\n",
    "m P_n^{|m|}(z) = (1-z^2) \\frac{d}{dz} P_n^{|m|}(z).\n",
    "\\end{align}\n",
    "\n",
    "Note that the associated Legendre functions are given by\n",
    "$$ P_n^{|m|}(z) = \\left(1 - z^2 \\right)^{\\frac{m}{2}} P_{n-|m|}^{|m|,|m|}(z) $$\n",
    "hence we find the roots of\n",
    "\\begin{align}\n",
    "m (1+z) P_{n-|m|}^{|m|,|m|}(z) = (1-z^2) \\frac{d}{dz} P_{n-|m|}^{|m|,|m|}(z).\n",
    "\\end{align}\n",
    "\\begin{align}\n",
    "0 = \\left[ m - (1-z) \\frac{d}{dz} \\right] P_{n-|m|}^{|m|,|m|}(z) = n P_{n-|m|}^{|m|-1,|m|+1}(z)\n",
    "\\end{align}\n",
    "provided $m \\ne 0$.\n",
    "\n",
    "For $m = 0$ we have\n",
    "\\begin{align}\n",
    "0 &= (1-z^2) \\frac{d}{dz} P_{n-|m|}^{|m|,|m|}(z) \\\\\n",
    "\\implies 0 &= \\frac{d}{dz} P_{n-|m|}^{|m|,|m|}(z) = \\frac{n+|m|+1}{2} P_{n-|m|-1}^{(|m|+1,|m|+1)}(z) \\\\\n",
    "\\end{align}"
   ]
  },
  {
   "cell_type": "code",
   "execution_count": null,
   "metadata": {},
   "outputs": [],
   "source": [
    "import dedalus_sphere.jacobi as Jacobi\n",
    "\n",
    "import numpy as np\n",
    "import matplotlib.pyplot as plt\n",
    "%matplotlib notebook\n",
    "\n",
    "import os, sys\n",
    "module_path = os.path.abspath(os.path.join('..'))\n",
    "if module_path not in sys.path:\n",
    "    sys.path.append(module_path)\n",
    "\n",
    "from greenspan_inertial_waves import associated_legendre_nodes, compute_eigenvalues, compute_eigenmode"
   ]
  },
  {
   "cell_type": "code",
   "execution_count": null,
   "metadata": {},
   "outputs": [],
   "source": [
    "def plotfield(s, z, f, zoombox=None):\n",
    "    fig, ax = plt.subplots(figsize=(4.25,6))\n",
    "    im = ax.pcolormesh(s, z, f, cmap='RdBu')\n",
    "    fig.colorbar(im, ax=ax)\n",
    "    ax.set_xlabel('s')\n",
    "    ax.set_ylabel('z')\n",
    "    if zoombox is None:\n",
    "        ax.set_aspect('equal', adjustable='box')\n",
    "    else:\n",
    "        ax.set_xlim(zoombox[0])\n",
    "        ax.set_ylim(zoombox[1])\n",
    "    fig.set_tight_layout(True)\n"
   ]
  },
  {
   "cell_type": "code",
   "execution_count": null,
   "metadata": {},
   "outputs": [],
   "source": [
    "# Compute the eigenvalues of the inertial waves problem\n",
    "# for a given degree n and wavenumber m\n",
    "n, m = 4, 1\n",
    "\n",
    "roots = compute_eigenvalues(n, m)\n",
    "for k in range(len(roots)):\n",
    "    mu = roots[k]\n",
    "    print('modes[({},{},{})] = {:1.6f}'.format(n,k+1,m,2*mu))\n"
   ]
  },
  {
   "cell_type": "code",
   "execution_count": null,
   "metadata": {},
   "outputs": [],
   "source": [
    "# Inertial wave parameters:\n",
    "#   n: Associated Legendre degree\n",
    "#   k: Index of eigenvalue\n",
    "#   m: Azimuthal wavenumber\n",
    "# n, k, m = 130, (130-95)//2, 96\n",
    "n, k, m = 60, 29, 15\n",
    "\n",
    "# Create the grid\n",
    "ns, neta = 1000, 1001\n",
    "s = np.linspace(0,1,1000).reshape((1,ns))\n",
    "eta = np.linspace(-1,1,1001).reshape((neta,1))\n",
    "z = eta*np.sqrt(1-s**2)\n",
    "\n",
    "# Compute the mode\n",
    "f = compute_eigenmode(s,z,n,k,m)\n",
    "\n",
    "# Plot the field\n",
    "plotfield(s, z, f)\n"
   ]
  },
  {
   "cell_type": "code",
   "execution_count": null,
   "metadata": {},
   "outputs": [],
   "source": []
  }
 ],
 "metadata": {
  "kernelspec": {
   "display_name": "Python 3",
   "language": "python",
   "name": "python3"
  },
  "language_info": {
   "codemirror_mode": {
    "name": "ipython",
    "version": 3
   },
   "file_extension": ".py",
   "mimetype": "text/x-python",
   "name": "python",
   "nbconvert_exporter": "python",
   "pygments_lexer": "ipython3",
   "version": "3.7.6"
  }
 },
 "nbformat": 4,
 "nbformat_minor": 4
}
