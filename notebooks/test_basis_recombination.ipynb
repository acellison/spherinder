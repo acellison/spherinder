{
 "cells": [
  {
   "cell_type": "code",
   "execution_count": null,
   "metadata": {},
   "outputs": [],
   "source": [
    "import dedalus_sphere.jacobi as Jacobi\n",
    "\n",
    "import numpy as np\n",
    "import scipy as sp\n",
    "import scipy.sparse as sparse\n",
    "import matplotlib.pyplot as plt\n",
    "%matplotlib inline\n",
    "\n",
    "np.set_printoptions(precision=4,suppress=True)\n",
    "\n",
    "A = Jacobi.operator('A')\n",
    "B = Jacobi.operator('B')\n",
    "C = Jacobi.operator('C')\n",
    "D = Jacobi.operator('D')\n",
    "Z = Jacobi.operator('Z')\n",
    "Id = Jacobi.operator('Id')\n"
   ]
  },
  {
   "cell_type": "code",
   "execution_count": null,
   "metadata": {},
   "outputs": [],
   "source": [
    "# Construct a Dirichlet basis for Jacobi polynomials\n",
    "# This is effectively P_n - P_{n-2}, n = 2,3,...,Nmax,\n",
    "# up to scaling to accomodate actual boundary values.\n",
    "# This places boundary conditions in the first two rows\n",
    "Lmax, a, b = 8, 0, 0\n",
    "neta = 1000\n",
    "z = np.linspace(-1,1,neta)\n",
    "Pn = Jacobi.polynomials(Lmax,a,b,z).T\n",
    "bc = Jacobi.polynomials(Lmax,a,b,1)\n",
    "\n",
    "Qn_desired = bc[:-2] * Pn[:,2:] - bc[2:] * Pn[:,:-2]\n",
    "\n",
    "S = sparse.diags([np.concatenate(([1,1],bc[:-2])), -bc[2:]], [0, 2])\n",
    "Qn = Pn @ S\n",
    "assert np.max(abs(Qn[:,2:]-Qn_desired)) < 1e-16\n",
    "\n",
    "u = (1-np.arange(Lmax)/Lmax)**2\n",
    "v = np.linalg.solve(S.todense(), u)\n",
    "assert np.max(abs(Pn @ u - Qn @ v)) < 2e-15\n",
    "assert np.max(abs(u - S @ v)) < 1e-15\n",
    "\n",
    "fig, plot_axes = plt.subplots(1,2,figsize=(10,4))\n",
    "plot_axes[0].plot(z,Qn[:,:2])\n",
    "plot_axes[1].plot(z,Qn[:,2:])\n",
    "plot_axes[0].set_title('first two basis polynomials')\n",
    "plot_axes[1].set_title('Dirichlet basis polynomials')\n",
    "plot_axes[0].grid()\n",
    "plot_axes[1].grid()\n"
   ]
  },
  {
   "cell_type": "code",
   "execution_count": null,
   "metadata": {},
   "outputs": [],
   "source": [
    "# Construct another Dirichlet basis for Jacobi polynomials\n",
    "# This is effectively P_{n+2} - P_n, n = 0,1,...,Nmax-2\n",
    "# up to scaling to accomodate actual boundary values.\n",
    "# This places boundary conditions in the last two rows\n",
    "Lmax, a, b = 8, 0, 0\n",
    "neta = 1000\n",
    "z = np.linspace(-1,1,neta)\n",
    "Pn = Jacobi.polynomials(Lmax,a,b,z).T\n",
    "bc = Jacobi.polynomials(Lmax,a,b,1)\n",
    "\n",
    "S = sparse.diags([np.concatenate((-bc[2:],[1,1])), bc[:-2]], [0, -2])\n",
    "Qn = Pn @ S\n",
    "assert np.max(abs(Qn[ 0,:-2])) < 8e-15\n",
    "assert np.max(abs(Qn[-1,:-2])) < 8e-15\n",
    "\n",
    "u = (1-np.arange(Lmax)/Lmax)**2\n",
    "v = np.linalg.solve(S.todense(), u)\n",
    "assert np.max(abs(Pn @ u - Qn @ v)) < 4e-15\n",
    "assert np.max(abs(u - S @ v)) < 1e-15\n",
    "\n",
    "fig, plot_axes = plt.subplots(1,2,figsize=(10,4))\n",
    "plot_axes[0].plot(z,Qn[:,:-2])\n",
    "plot_axes[1].plot(z,Qn[:,-2:])\n",
    "plot_axes[0].set_title('Dirichlet basis polynomials')\n",
    "plot_axes[1].set_title('final two basis polynomials')\n",
    "plot_axes[0].grid()\n",
    "plot_axes[1].grid()\n"
   ]
  },
  {
   "cell_type": "code",
   "execution_count": null,
   "metadata": {},
   "outputs": [],
   "source": []
  },
  {
   "cell_type": "code",
   "execution_count": null,
   "metadata": {},
   "outputs": [],
   "source": []
  }
 ],
 "metadata": {
  "kernelspec": {
   "display_name": "Python 3",
   "language": "python",
   "name": "python3"
  },
  "language_info": {
   "codemirror_mode": {
    "name": "ipython",
    "version": 3
   },
   "file_extension": ".py",
   "mimetype": "text/x-python",
   "name": "python",
   "nbconvert_exporter": "python",
   "pygments_lexer": "ipython3",
   "version": "3.7.6"
  }
 },
 "nbformat": 4,
 "nbformat_minor": 4
}
