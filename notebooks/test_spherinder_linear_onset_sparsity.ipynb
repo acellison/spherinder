{
 "cells": [
  {
   "cell_type": "code",
   "execution_count": null,
   "metadata": {},
   "outputs": [],
   "source": [
    "import numpy as np\n",
    "import scipy as sp\n",
    "import scipy.sparse as sparse\n",
    "import scipy.linalg as sla\n",
    "import scipy.sparse.linalg as spla\n",
    "import matplotlib.pyplot as plt\n",
    "%matplotlib inline\n",
    "\n",
    "np.set_printoptions(precision=2,suppress=True)\n",
    "\n",
    "# Add '../' to path\n",
    "import os, sys\n",
    "module_path = os.path.abspath(os.path.join('../paper'))\n",
    "if module_path not in sys.path:\n",
    "    sys.path.append(module_path)\n",
    "\n",
    "import spherinder.operators as sph\n",
    "import spherinder_linear_onset as slo"
   ]
  },
  {
   "cell_type": "code",
   "execution_count": null,
   "metadata": {},
   "outputs": [],
   "source": [
    "m, Lmax, Nmax = 1, 100, 100\n",
    "Ekman, Prandtl, Rayleigh = 1, 1, 1\n",
    "\n",
    "M, L = slo.matrices_galerkin(m, Lmax, Nmax, Ekman, Prandtl, Rayleigh)"
   ]
  },
  {
   "cell_type": "code",
   "execution_count": null,
   "metadata": {},
   "outputs": [],
   "source": [
    "fig, ax = plt.subplots(1,2,figsize=(9,4))\n",
    "ax[0].spy(L, markersize=.1)\n",
    "ax[1].spy(M, markersize=.1)\n",
    "ax[0].set_title('L')\n",
    "ax[1].set_title('M');"
   ]
  },
  {
   "cell_type": "code",
   "execution_count": null,
   "metadata": {},
   "outputs": [],
   "source": [
    "# Interleave the field variables within each mode\n",
    "varindices, eqnindices = slo.permutation_indices(5, Lmax, Nmax)\n",
    "L1 = L[:,varindices]\n",
    "L1 = L1[eqnindices,:]\n",
    "\n",
    "fig, ax = plt.subplots(1,2,figsize=(9,4))\n",
    "ax[0].spy(L1, markersize=.1)\n",
    "ax[1].spy(L1, markersize=.1)\n",
    "ax[1].set_xlim([0,500])\n",
    "ax[1].set_ylim([300,0])"
   ]
  },
  {
   "cell_type": "code",
   "execution_count": null,
   "metadata": {},
   "outputs": [],
   "source": [
    "def factor(matrix, spec, ordering):\n",
    "    lu = spla.splu(matrix.tocsc(), permc_spec=spec)\n",
    "    l, u = lu.L, lu.U\n",
    "\n",
    "    print(f\"{ordering} ordering, {spec}\")\n",
    "    print(\"  Lower sparsity: {}\".format(len(np.nonzero(l)[0])/np.prod(np.shape(matrix))))\n",
    "    print(\"  Upper sparsity: {}\".format(len(np.nonzero(u)[0])/np.prod(np.shape(matrix))))\n",
    "\n",
    "    markersize = .005\n",
    "    fig, ax = plt.subplots(1,2,figsize=(9,4))\n",
    "    ax[0].spy(l, markersize=markersize)\n",
    "    ax[1].spy(u, markersize=markersize)"
   ]
  },
  {
   "cell_type": "code",
   "execution_count": null,
   "metadata": {},
   "outputs": [],
   "source": [
    "# Slow!\n",
    "if False:\n",
    "    factor(L, 'NATURAL', 'Default')\n"
   ]
  },
  {
   "cell_type": "code",
   "execution_count": null,
   "metadata": {},
   "outputs": [],
   "source": [
    "factor(L, 'COLAMD', 'Default')\n"
   ]
  },
  {
   "cell_type": "code",
   "execution_count": null,
   "metadata": {},
   "outputs": [],
   "source": [
    "factor(L1, 'NATURAL', 'Variable inner')\n"
   ]
  },
  {
   "cell_type": "code",
   "execution_count": null,
   "metadata": {},
   "outputs": [],
   "source": [
    "factor(L1, 'COLAMD', 'Variable inner')\n"
   ]
  },
  {
   "cell_type": "code",
   "execution_count": null,
   "metadata": {},
   "outputs": [],
   "source": []
  }
 ],
 "metadata": {
  "kernelspec": {
   "display_name": "Python 3 (ipykernel)",
   "language": "python",
   "name": "python3"
  },
  "language_info": {
   "codemirror_mode": {
    "name": "ipython",
    "version": 3
   },
   "file_extension": ".py",
   "mimetype": "text/x-python",
   "name": "python",
   "nbconvert_exporter": "python",
   "pygments_lexer": "ipython3",
   "version": "3.8.12"
  }
 },
 "nbformat": 4,
 "nbformat_minor": 4
}
