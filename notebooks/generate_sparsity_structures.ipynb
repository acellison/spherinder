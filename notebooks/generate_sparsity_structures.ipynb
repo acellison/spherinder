{
 "cells": [
  {
   "cell_type": "code",
   "execution_count": null,
   "metadata": {},
   "outputs": [],
   "source": [
    "import numpy as np\n",
    "import matplotlib.pyplot as plt\n",
    "%matplotlib inline\n",
    "\n",
    "import spherinder as sph\n"
   ]
  },
  {
   "cell_type": "code",
   "execution_count": null,
   "metadata": {},
   "outputs": [],
   "source": [
    "m, Lmax, Nmax, alpha, sigma = 1, 8, 10, 0, 0\n",
    "ncoeff = Lmax*Nmax\n",
    "markersize = 800\n",
    "center = 's'\n",
    "markers = ['d','X','P']\n",
    "margin = .2"
   ]
  },
  {
   "cell_type": "code",
   "execution_count": null,
   "metadata": {},
   "outputs": [],
   "source": [
    "# Make sure we're looking at the densest column\n",
    "def max_density(op):\n",
    "    maxnz, maxcol = 0, 0\n",
    "    for c in range(np.shape(op)[1]):\n",
    "        nzr, _ = op[:,c].nonzero()\n",
    "        if len(nzr) > maxnz:\n",
    "            maxnz = len(nzr)\n",
    "            maxcol = c\n",
    "    return maxnz, maxcol\n",
    "\n",
    "def operator_splatter(op, Nout, Nin, ell, k):\n",
    "    colindex = ell*Nin + k\n",
    "    col = op[:,colindex]\n",
    "    rows, _ = col.nonzero()\n",
    "    maxnz, maxcol = max_density(op)\n",
    "    if len(rows) != maxnz:\n",
    "        raise ValueError(f'Not your densest column, {maxcol} is denser')\n",
    "\n",
    "    inds = [(r//Nout,r%Nout) for r in rows]\n",
    "    ells, ks = zip(*inds)\n",
    "    ells, ks = np.asarray(ells)-ell, np.asarray(ks)-k\n",
    "    return ells, ks\n"
   ]
  },
  {
   "cell_type": "code",
   "execution_count": null,
   "metadata": {},
   "outputs": [],
   "source": [
    "def plot_splatter(opname, operator, codomain, ax=None, margins=margin):\n",
    "    if not isinstance(operator, (list,tuple)):\n",
    "        operator = [operator]\n",
    "        codomain = [codomain]\n",
    "\n",
    "    ellmin, ellmax, kmin, kmax = np.inf, -np.inf, np.inf, -np.inf\n",
    "    if ax is None:\n",
    "        fig, ax = plt.subplots(figsize=(3,3))\n",
    "        return_fig = True\n",
    "    else:\n",
    "        return_fig = False\n",
    "\n",
    "    ax.scatter(0,0,marker=center,color='tab:purple',s=markersize)\n",
    "    for i, op in enumerate(operator):\n",
    "        ells, ks = operator_splatter(op, codomain[i][1], Nmax, ell, k)\n",
    "        ax.scatter(ks,ells,s=markersize,marker=markers[i])\n",
    "\n",
    "        ellmin, ellmax = min(min(ells), ellmin), max(max(ells), ellmax)\n",
    "        kmin, kmax = min(min(ks), kmin), max(max(ks), kmax)\n",
    "\n",
    "    ax.set_xticks(range(int(kmin),int(kmax)+1))\n",
    "    ax.set_yticks(range(int(ellmin),int(ellmax)+1))\n",
    "    ax.set_aspect('equal')\n",
    "    if isinstance(margins, tuple):\n",
    "        ax.margins(*margins)\n",
    "    else:\n",
    "        ax.margins(margin)\n",
    "    ax.set_xlabel('$k$')\n",
    "    ax.set_ylabel('$l$')\n",
    "    ax.set_title(opname)\n",
    "\n",
    "    if return_fig:\n",
    "        return fig, ax\n"
   ]
  },
  {
   "cell_type": "code",
   "execution_count": null,
   "metadata": {},
   "outputs": [],
   "source": [
    "# Laplacian sparsity structure\n",
    "ell, k = 4, 1\n",
    "operator = sph.operator('laplacian')\n",
    "codomain = operator.codomain(Lmax,Nmax,alpha)\n",
    "Op = operator(m,Lmax,Nmax,alpha)\n",
    "\n",
    "fig, ax = plot_splatter('Laplacian', Op, codomain, margins=(1.5*margin,margin))\n"
   ]
  },
  {
   "cell_type": "code",
   "execution_count": null,
   "metadata": {},
   "outputs": [],
   "source": [
    "# Gradient sparsity structure\n",
    "ell, k = 4, 1\n",
    "operator = sph.operator('gradient')\n",
    "codomain = [cd(Lmax,Nmax,alpha) for cd in operator.codomain]\n",
    "Op = operator(m,Lmax,Nmax,alpha)\n",
    "\n",
    "fig, ax = plot_splatter('Gradient', Op, codomain)\n"
   ]
  },
  {
   "cell_type": "code",
   "execution_count": null,
   "metadata": {},
   "outputs": [],
   "source": [
    "# Divergence sparsity structure\n",
    "ell, k = 4, 1\n",
    "\n",
    "operator = sph.operator('divergence')\n",
    "codomain = [(Lmax,Nmax+1)]*3\n",
    "\n",
    "Op = operator(m,Lmax,Nmax,alpha)\n",
    "ops = [Op[:,:ncoeff],Op[:,ncoeff:2*ncoeff],Op[:,2*ncoeff:3*ncoeff]]\n",
    "\n",
    "fig, ax = plot_splatter('Divergence', ops, codomain)\n"
   ]
  },
  {
   "cell_type": "code",
   "execution_count": null,
   "metadata": {},
   "outputs": [],
   "source": [
    "# r e_r sparsity structure\n",
    "ell, k = 4, 2\n",
    "\n",
    "for convert in [False,True]:\n",
    "    operator = sph.RadialMultiplication(convert=convert)\n",
    "    codomain = [cd(Lmax,Nmax,alpha) for cd in operator.codomain]\n",
    "    Op = operator(m,Lmax,Nmax,alpha)\n",
    "\n",
    "    fig, ax = plot_splatter('$r e_r$', Op, codomain)\n"
   ]
  },
  {
   "cell_type": "code",
   "execution_count": null,
   "metadata": {},
   "outputs": [],
   "source": [
    "# e_r . sparsity structure\n",
    "ell, k = 4, 1\n",
    "\n",
    "operator = sph.operator('rdot')\n",
    "codomain = [(Lmax+1,Nmax+1)]*3\n",
    "Op = operator(m,Lmax,Nmax,alpha)\n",
    "ops = [Op[:,:ncoeff],Op[:,ncoeff:2*ncoeff],Op[:,2*ncoeff:3*ncoeff]]\n",
    "\n",
    "fig, ax = plot_splatter('$e_r \\cdot$', ops, codomain)\n"
   ]
  },
  {
   "cell_type": "code",
   "execution_count": null,
   "metadata": {},
   "outputs": [],
   "source": [
    "# 1-r**2 sparsity structure\n",
    "ell, k = 4, 1\n",
    "operator = sph.operator('1-r**2')\n",
    "codomain = operator.codomain(Lmax,Nmax,alpha)\n",
    "Op = operator(m,Lmax,Nmax,alpha=1,sigma=0)\n",
    "\n",
    "fig, ax = plot_splatter('$1-r^2$', Op, codomain)\n"
   ]
  },
  {
   "cell_type": "code",
   "execution_count": null,
   "metadata": {},
   "outputs": [],
   "source": [
    "# conversion sparsity structure\n",
    "ell, k = 4, 1\n",
    "operator = sph.operator('conversion')\n",
    "codomain = operator.codomain(Lmax,Nmax,alpha)\n",
    "Op = operator(m,Lmax,Nmax,alpha=0,sigma=0)\n",
    "\n",
    "fig, ax = plot_splatter('$\\\\alpha$-conversion', Op, codomain)\n"
   ]
  },
  {
   "cell_type": "code",
   "execution_count": null,
   "metadata": {},
   "outputs": [],
   "source": [
    "# Differential operators\n",
    "fig, ax = plt.subplots(1,3,figsize=(10,3))\n",
    "\n",
    "# Gradient sparsity structure\n",
    "ell, k = 4, 2\n",
    "operator = sph.operator('gradient')\n",
    "codomain = [cd(Lmax,Nmax,alpha) for cd in operator.codomain]\n",
    "Op = operator(m,Lmax,Nmax,alpha)\n",
    "plot_splatter('Gradient', Op, codomain, ax=ax[0])\n",
    "\n",
    "# Divergence sparsity structure\n",
    "ell, k = 4, 2\n",
    "operator = sph.operator('divergence')\n",
    "codomain = [(Lmax,Nmax+1)]*3\n",
    "Op = operator(m,Lmax,Nmax,alpha)\n",
    "ops = [Op[:,:ncoeff],Op[:,ncoeff:2*ncoeff],Op[:,2*ncoeff:3*ncoeff]]\n",
    "plot_splatter('Divergence', ops, codomain, ax=ax[1])\n",
    "\n",
    "# Laplacian sparsity structure\n",
    "ell, k = 4, 2\n",
    "operator = sph.operator('laplacian')\n",
    "codomain = operator.codomain(Lmax,Nmax,alpha)\n",
    "Op = operator(m,Lmax,Nmax,alpha)\n",
    "plot_splatter('Laplacian', Op, codomain, ax=ax[2], margins=(1.5*margin,margin))\n"
   ]
  },
  {
   "cell_type": "code",
   "execution_count": null,
   "metadata": {},
   "outputs": [],
   "source": [
    "# radial operators\n",
    "fig, ax = plt.subplots(1,4,figsize=(16,3))\n",
    "\n",
    "# r e_r sparsity structure\n",
    "ell, k = 4, 2\n",
    "operator = sph.RadialMultiplication(convert=False)\n",
    "codomain = [cd(Lmax,Nmax,alpha) for cd in operator.codomain]\n",
    "Op = operator(m,Lmax,Nmax,alpha)\n",
    "plot_splatter('$r$ $e_r$', Op, codomain, ax=ax[0])\n",
    "\n",
    "# e_r . sparsity structure\n",
    "ell, k = 4, 2\n",
    "operator = sph.operator('rdot')\n",
    "codomain = [(Lmax+1,Nmax+1)]*3\n",
    "Op = operator(m,Lmax,Nmax,alpha)\n",
    "ops = [Op[:,:ncoeff],Op[:,ncoeff:2*ncoeff],Op[:,2*ncoeff:3*ncoeff]]\n",
    "plot_splatter('$e_r \\cdot$', ops, codomain, ax=ax[1])\n",
    "\n",
    "# 1-r**2 sparsity structure\n",
    "ell, k = 4, 2\n",
    "operator = sph.operator('1-r**2')\n",
    "codomain = operator.codomain(Lmax,Nmax,alpha)\n",
    "Op = operator(m,Lmax,Nmax,alpha=1,sigma=0)\n",
    "plot_splatter('$1-r^2$', Op, codomain, ax=ax[2])\n",
    "\n",
    "# conversion sparsity structure\n",
    "ell, k = 4, 2\n",
    "operator = sph.operator('conversion')\n",
    "codomain = operator.codomain(Lmax,Nmax,alpha)\n",
    "Op = operator(m,Lmax,Nmax,alpha=0,sigma=0)\n",
    "plot_splatter('$\\\\alpha$-conversion', Op, codomain, ax=ax[3])\n"
   ]
  },
  {
   "cell_type": "code",
   "execution_count": null,
   "metadata": {},
   "outputs": [],
   "source": []
  }
 ],
 "metadata": {
  "kernelspec": {
   "display_name": "Python 3",
   "language": "python",
   "name": "python3"
  },
  "language_info": {
   "codemirror_mode": {
    "name": "ipython",
    "version": 3
   },
   "file_extension": ".py",
   "mimetype": "text/x-python",
   "name": "python",
   "nbconvert_exporter": "python",
   "pygments_lexer": "ipython3",
   "version": "3.7.6"
  }
 },
 "nbformat": 4,
 "nbformat_minor": 4
}
