{
 "cells": [
  {
   "cell_type": "markdown",
   "metadata": {},
   "source": [
    "# Inertial waves in the disk\n",
    "\n",
    "\\begin{align}\n",
    "i \\omega \\vec{u} + \\vec{e}_z \\times \\vec{u} + \\nabla p &= 0 \\\\\n",
    "i \\omega \\nabla \\cdot \\vec{u} + \\alpha^2 p &= 0 \\\\\n",
    "\\left[ \\vec{e}_r \\cdot \\vec{u} \\right]_{r = 1} &= 0 \\text{ (impenetrable) }\n",
    "\\end{align}"
   ]
  },
  {
   "cell_type": "code",
   "execution_count": null,
   "metadata": {},
   "outputs": [],
   "source": [
    "import dedalus_sphere.zernike as Zernike\n",
    "\n",
    "import numpy as np\n",
    "import scipy as sp\n",
    "import scipy.sparse as sparse\n",
    "from scipy.special import spherical_jn\n",
    "from scipy.linalg import eig\n",
    "import matplotlib.pyplot as plt\n",
    "%matplotlib notebook\n",
    "\n",
    "np.set_printoptions(precision=3,suppress=True)\n",
    "\n",
    "dim = 2\n",
    "D = Zernike.operator(dim, 'D')\n",
    "E = Zernike.operator(dim, 'E')\n",
    "Id = Zernike.operator(dim, 'Id')"
   ]
  },
  {
   "cell_type": "code",
   "execution_count": null,
   "metadata": {},
   "outputs": [],
   "source": [
    "Nmax, k, m = 250, 0, 1\n",
    "alpha = 1"
   ]
  },
  {
   "cell_type": "code",
   "execution_count": null,
   "metadata": {},
   "outputs": [],
   "source": [
    "def eigsort(A, B, cutoff=np.inf):\n",
    "    vals, vecs = eig(A, b=B)\n",
    "    bad = (np.abs(vals) > cutoff)\n",
    "    vals[bad] = np.nan\n",
    "    vecs = vecs[:,np.isfinite(vals)]\n",
    "    vals = vals[np.isfinite(vals)]\n",
    "\n",
    "    i = np.argsort(vals.real)\n",
    "    vals, vecs = vals[i], vecs[:, i]\n",
    "\n",
    "    return vals, vecs\n"
   ]
  },
  {
   "cell_type": "markdown",
   "metadata": {},
   "source": [
    "### Tau Method"
   ]
  },
  {
   "cell_type": "code",
   "execution_count": null,
   "metadata": {},
   "outputs": [],
   "source": [
    "# Discretize the system\n",
    "Z = (0*Id)(Nmax,k,m)\n",
    "bc_plus = Zernike.polynomials(dim,Nmax,k,m+1,1.0)\n",
    "bc_minus = Zernike.polynomials(dim,Nmax,k,m-1,1.0)\n",
    "\n",
    "L00 = E(+1)(Nmax, k, m+1)\n",
    "L01 = Z\n",
    "L02 = D(+1)(Nmax, k, m)\n",
    "L11 = -E(+1)(Nmax, k, m-1)\n",
    "L12 =  D(-1)(Nmax, k, m)\n",
    "L22 = alpha**2 * E(+1)(Nmax, k, m)\n",
    "\n",
    "M00 = E(+1)(Nmax, k, m+1)\n",
    "M11 = E(+1)(Nmax, k, m-1)\n",
    "M20 = D(-1)(Nmax, k, m+1)\n",
    "M21 = sparse.vstack([D(+1)(Nmax, k, m-1), np.zeros((1,Nmax))])\n",
    "\n",
    "# boundary conditions - tau line\n",
    "L00[-1,:] = bc_plus\n",
    "L01[-1,:] = bc_minus\n",
    "L02 = sparse.vstack([L02, np.zeros((1,Nmax))])\n",
    "M00[-1,:] = 0\n",
    "\n",
    "L = sparse.bmat([[L00,L01,L02],[Z,L11,L12],[Z,Z,L22]])\n",
    "M = -sparse.bmat([[M00,Z,Z],[Z,M11,Z],[M20,M21,Z]])\n",
    "\n",
    "evalues_tau, evectors_tau = eigsort(L.todense(), M.todense())"
   ]
  },
  {
   "cell_type": "markdown",
   "metadata": {},
   "source": [
    "### Galerkin"
   ]
  },
  {
   "cell_type": "code",
   "execution_count": null,
   "metadata": {},
   "outputs": [],
   "source": [
    "# Discretize the system\n",
    "Z = (0*Id)(Nmax,k,m)\n",
    "\n",
    "L00 =  (E(+1) @ E(-1))(Nmax, k+1, m+1)[:Nmax,:]\n",
    "L02 =  D(+1)(Nmax, k, m)\n",
    "L11 = -(E(+1) @ E(-1))(Nmax, k+1, m-1)[:Nmax,:]\n",
    "L12 =  D(-1)(Nmax, k, m)\n",
    "L22 = alpha**2 * E(+1)(Nmax, k, m)[:Nmax,:]\n",
    "\n",
    "L02 = sparse.vstack([L02, np.zeros(Nmax)])\n",
    "\n",
    "M00 = (E(+1) @ E(-1))(Nmax, k+1, m+1)[:Nmax,:]\n",
    "M11 = (E(+1) @ E(-1))(Nmax, k+1, m-1)[:Nmax,:]\n",
    "M20 = (D(-1) @ E(-1))(Nmax, k+1, m+1)[:Nmax,:]\n",
    "M21 = (D(+1) @ E(-1))(Nmax, k+1, m-1)\n",
    "\n",
    "L = sparse.bmat([[L00,Z,L02],[Z,L11,L12],[Z,Z,L22]])\n",
    "M = -sparse.bmat([[M00,Z,Z],[Z,M11,Z],[M20,M21,Z]])\n",
    "\n",
    "evalues_galerkin, evectors_galerkin = eigsort(L.todense(), M.todense())"
   ]
  },
  {
   "cell_type": "code",
   "execution_count": null,
   "metadata": {},
   "outputs": [],
   "source": [
    "plt.figure()\n",
    "plt.plot(evalues_tau.real, evalues_tau.imag, '.', label='tau')\n",
    "plt.plot(evalues_galerkin.real, evalues_galerkin.imag, '.', label='galerkin')\n",
    "plt.legend()\n",
    "plt.grid()\n"
   ]
  },
  {
   "cell_type": "code",
   "execution_count": null,
   "metadata": {},
   "outputs": [],
   "source": []
  }
 ],
 "metadata": {
  "kernelspec": {
   "display_name": "Python 3",
   "language": "python",
   "name": "python3"
  },
  "language_info": {
   "codemirror_mode": {
    "name": "ipython",
    "version": 3
   },
   "file_extension": ".py",
   "mimetype": "text/x-python",
   "name": "python",
   "nbconvert_exporter": "python",
   "pygments_lexer": "ipython3",
   "version": "3.7.6"
  }
 },
 "nbformat": 4,
 "nbformat_minor": 4
}
