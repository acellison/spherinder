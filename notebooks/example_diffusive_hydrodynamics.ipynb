{
 "cells": [
  {
   "cell_type": "markdown",
   "metadata": {},
   "source": [
    "# Linear Diffusive Hydrodynamics\n",
    "\n",
    "\\begin{align}\n",
    "\\partial_t \\vec{u} - \\nabla^2 \\vec{u} + \\nabla p &= 0 \\\\\n",
    "\\nabla \\cdot \\vec{u} &= 0 \\\\\n",
    "\\vec{u}(r=1) &= 0 \\text{ (no slip) }\n",
    "\\end{align}\n"
   ]
  },
  {
   "cell_type": "code",
   "execution_count": null,
   "metadata": {},
   "outputs": [],
   "source": [
    "import dedalus_sphere.zernike as Zernike\n",
    "from dedalus_sphere.spin_operators import xi\n",
    "\n",
    "import numpy as np\n",
    "import scipy as sp\n",
    "import scipy.sparse as sparse\n",
    "from scipy.special import spherical_jn\n",
    "from scipy.linalg import eig\n",
    "import matplotlib.pyplot as plt\n",
    "%matplotlib notebook\n",
    "\n",
    "np.set_printoptions(precision=3,suppress=True)\n",
    "\n",
    "dim = 3\n",
    "D = Zernike.operator(dim, 'D')\n",
    "E = Zernike.operator(dim, 'E')\n",
    "Id = Zernike.operator(dim, 'Id')"
   ]
  },
  {
   "cell_type": "code",
   "execution_count": null,
   "metadata": {},
   "outputs": [],
   "source": [
    "Nmax, alpha, ell = 256, 0, 50"
   ]
  },
  {
   "cell_type": "code",
   "execution_count": null,
   "metadata": {},
   "outputs": [],
   "source": [
    "def eigsort(A, B, cutoff=np.inf):\n",
    "    vals, vecs = eig(A, b=B)\n",
    "    bad = (np.abs(vals) > cutoff)\n",
    "    vals[bad] = np.nan\n",
    "    vecs = vecs[:,np.isfinite(vals)]\n",
    "    vals = vals[np.isfinite(vals)]\n",
    "\n",
    "    i = np.argsort(vals.real)\n",
    "    vals, vecs = vals[i], vecs[:, i]\n",
    "\n",
    "    return vals, vecs\n"
   ]
  },
  {
   "cell_type": "markdown",
   "metadata": {},
   "source": [
    "### Analytic Solution"
   ]
  },
  {
   "cell_type": "code",
   "execution_count": null,
   "metadata": {},
   "outputs": [],
   "source": [
    "def dispersion_zeros(ell,n,a=0,guess=None,imax=20,nk=10,eps=0.1):\n",
    "    j = spherical_jn\n",
    "    def F(k,deriv=False): \n",
    "        return j(ell,k,derivative=deriv) - a*j(ell+2,k,derivative=deriv)\n",
    "    \n",
    "    if guess == None:    \n",
    "        kmax = np.pi*(n+ell/2 + eps)\n",
    "        k = np.linspace(0,kmax,int(kmax*nk))\n",
    "        S = np.sign(F(k))\n",
    "        i = np.where(np.abs(np.roll(S,-1)-S)==2)[0]\n",
    "        k = 0.5*(k[i]+k[i+1])\n",
    "    else: k = guess\n",
    "    \n",
    "    for i in range(imax):\n",
    "        dk =  F(k)/F(k,deriv=True)\n",
    "        k -= dk\n",
    "    \n",
    "    return k\n",
    "\n",
    "def wavenumbers(ell,n):\n",
    "    k = {} \n",
    "    k['toroidal'] = dispersion_zeros(ell,n)\n",
    "    k['poloidal'] = dispersion_zeros(ell+1,n)\n",
    "    return k\n",
    "    \n",
    "def eigenvalues(k,n):\n",
    "    kk = np.sort(np.concatenate((k['toroidal'],k['poloidal'])))\n",
    "    kk = kk[0:min(n,len(kk))]**2\n",
    "    return kk\n",
    "\n",
    "# Bessel equation, analytic eigenvalues\n",
    "wavenumbers_analytic = wavenumbers(ell,Nmax)\n",
    "evalues_analytic = eigenvalues(wavenumbers_analytic,2*Nmax)\n"
   ]
  },
  {
   "cell_type": "markdown",
   "metadata": {},
   "source": [
    "### Tau Method"
   ]
  },
  {
   "cell_type": "code",
   "execution_count": null,
   "metadata": {},
   "outputs": [],
   "source": [
    "Z = 0*Id(Nmax, alpha, ell)\n",
    "\n",
    "bc_minus = Zernike.polynomials(dim,Nmax,alpha,ell-1,1.0)\n",
    "bc_0     = Zernike.polynomials(dim,Nmax,alpha,ell,  1.0)\n",
    "bc_plus  = Zernike.polynomials(dim,Nmax,alpha,ell+1,1.0)\n",
    "\n",
    "L00 = -(D(-1) @ D(+1))(Nmax, alpha, ell-1)\n",
    "L11 = -(D(-1) @ D(+1))(Nmax, alpha, ell)\n",
    "L22 = -(D(-1) @ D(+1))(Nmax, alpha, ell+1)\n",
    "L03 = xi(-1,ell) * (E(+1) @ D(-1))(Nmax, alpha, ell)\n",
    "L23 = xi(+1,ell) * (E(+1) @ D(+1))(Nmax, alpha, ell)\n",
    "L30 = xi(-1,ell) * D(+1)(Nmax, alpha, ell-1)\n",
    "L32 = xi(+1,ell) * D(-1)(Nmax, alpha, ell+1)\n",
    "\n",
    "M00 = (E(+1) @ E(+1))(Nmax, alpha, ell-1)\n",
    "M11 = (E(+1) @ E(+1))(Nmax, alpha, ell)\n",
    "M22 = (E(+1) @ E(+1))(Nmax, alpha, ell+1)\n",
    "\n",
    "# boundary conditions\n",
    "L00 = sparse.vstack([L00, bc_minus])\n",
    "L03[-1,:] = 0\n",
    "L11 = sparse.vstack([L11, bc_0])\n",
    "L22 = sparse.vstack([L22, bc_plus])\n",
    "L23 = sparse.vstack([L23, np.zeros(Nmax)])\n",
    "L30 = sparse.vstack([L30, np.zeros(Nmax)])\n",
    "\n",
    "M00[-1,:] = 0\n",
    "M11[-1,:] = 0\n",
    "M22[-1,:] = 0\n",
    "\n",
    "L = sparse.bmat([[L00,Z,Z,L03],[Z,L11,Z,Z],[Z,Z,L22,L23],[L30,Z,L32,Z]])\n",
    "M = sparse.block_diag([M00,M11,M22,Z])\n",
    "\n",
    "evalues_tau, evectors_tau = eigsort(L.todense(), M.todense())"
   ]
  },
  {
   "cell_type": "markdown",
   "metadata": {},
   "source": [
    "### Galerkin Method"
   ]
  },
  {
   "cell_type": "code",
   "execution_count": null,
   "metadata": {},
   "outputs": [],
   "source": [
    "Z = 0*Id(Nmax, alpha, ell)\n",
    "\n",
    "L00 = -(D(-1) @ D(+1) @ E(-1))(Nmax, alpha+1, ell-1)\n",
    "L11 = -(D(-1) @ D(+1) @ E(-1))(Nmax, alpha+1, ell)\n",
    "L22 = -(D(-1) @ D(+1) @ E(-1))(Nmax, alpha+1, ell+1)\n",
    "L03 = xi(-1,ell) * (E(+1) @ D(-1))(Nmax, alpha, ell)\n",
    "L23 = xi(+1,ell) * (E(+1) @ D(+1))(Nmax, alpha, ell)\n",
    "L23 = sparse.vstack([L23, np.zeros(Nmax)])\n",
    "L30 = xi(-1,ell) * (D(+1) @ E(-1))(Nmax, alpha+1, ell-1)\n",
    "L32 = xi(+1,ell) * (D(-1) @ E(-1))(Nmax, alpha+1, ell+1)[:Nmax,:]\n",
    "\n",
    "M00 = (E(+1) @ E(+1) @ E(-1))(Nmax, alpha+1, ell-1)[:Nmax,:]\n",
    "M11 = (E(+1) @ E(+1) @ E(-1))(Nmax, alpha+1, ell)[:Nmax,:]\n",
    "M22 = (E(+1) @ E(+1) @ E(-1))(Nmax, alpha+1, ell+1)[:Nmax,:]\n",
    "\n",
    "L = sparse.bmat([[L00,Z,Z,L03],[Z,L11,Z,Z],[Z,Z,L22,L23],[L30,Z,L32,Z]])\n",
    "M = sparse.block_diag([M00,M11,M22,Z])\n",
    "\n",
    "evalues_galerkin, evectors_galerkin = eigsort(L.todense(), M.todense())"
   ]
  },
  {
   "cell_type": "markdown",
   "metadata": {},
   "source": [
    "### Plot the Errors"
   ]
  },
  {
   "cell_type": "code",
   "execution_count": null,
   "metadata": {},
   "outputs": [],
   "source": [
    "def error(vals):\n",
    "    return np.abs(vals**2-evalues_analytic[:len(vals)]**2)/np.abs(evalues_analytic[:len(vals)]**2)\n",
    "\n",
    "errors_tau = error(evalues_tau)\n",
    "errors_galerkin = error(evalues_galerkin)\n",
    "\n",
    "plt.figure()\n",
    "plt.semilogy(errors_tau, '.', label='tau')\n",
    "plt.semilogy(errors_galerkin, '.', label='galerkin')\n",
    "plt.xlim([0,500])\n",
    "plt.ylim([10**-16,10**0])\n",
    "plt.legend()\n",
    "plt.xlabel('eigenvalue number')\n",
    "plt.ylabel('relative error')\n",
    "plt.title('Linear Diffusive Hydrodynamics Eigenvalue Errors')\n",
    "plt.grid()\n"
   ]
  },
  {
   "cell_type": "code",
   "execution_count": null,
   "metadata": {},
   "outputs": [],
   "source": []
  }
 ],
 "metadata": {
  "kernelspec": {
   "display_name": "Python 3",
   "language": "python",
   "name": "python3"
  },
  "language_info": {
   "codemirror_mode": {
    "name": "ipython",
    "version": 3
   },
   "file_extension": ".py",
   "mimetype": "text/x-python",
   "name": "python",
   "nbconvert_exporter": "python",
   "pygments_lexer": "ipython3",
   "version": "3.7.6"
  }
 },
 "nbformat": 4,
 "nbformat_minor": 4
}
