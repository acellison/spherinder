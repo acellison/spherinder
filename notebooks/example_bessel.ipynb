{
 "cells": [
  {
   "cell_type": "markdown",
   "metadata": {},
   "source": [
    "# Ball Bessel Eigenproblem\n",
    "\n",
    "\\begin{align}\n",
    "\\nabla^2 f + \\kappa^2 f &= 0 \\\\\n",
    "f(r=1) &= 0\n",
    "\\end{align}"
   ]
  },
  {
   "cell_type": "code",
   "execution_count": null,
   "metadata": {},
   "outputs": [],
   "source": [
    "import dedalus_sphere.zernike as Zernike\n",
    "\n",
    "import numpy as np\n",
    "import scipy as sp\n",
    "import scipy.sparse as sparse\n",
    "from scipy.special import spherical_jn\n",
    "from scipy.linalg import eig\n",
    "import matplotlib.pyplot as plt\n",
    "%matplotlib notebook\n",
    "\n",
    "np.set_printoptions(precision=3,suppress=True)\n",
    "\n",
    "dim = 3\n",
    "D = Zernike.operator(dim, 'D')\n",
    "E = Zernike.operator(dim, 'E')\n"
   ]
  },
  {
   "cell_type": "markdown",
   "metadata": {},
   "source": [
    "### Bessel Parameters"
   ]
  },
  {
   "cell_type": "code",
   "execution_count": null,
   "metadata": {},
   "outputs": [],
   "source": [
    "# Shared Bessel parameters\n",
    "Nmax, alpha, ell = 512, 0, 30"
   ]
  },
  {
   "cell_type": "code",
   "execution_count": null,
   "metadata": {},
   "outputs": [],
   "source": [
    "def eigsort(A, B, cutoff=np.inf):\n",
    "    vals, vecs = eig(A, b=B)\n",
    "    bad = (np.abs(vals) > cutoff)\n",
    "    vals[bad] = np.nan\n",
    "    vecs = vecs[:,np.isfinite(vals)]\n",
    "    vals = vals[np.isfinite(vals)]\n",
    "\n",
    "    i = np.argsort(vals.real)\n",
    "    vals, vecs = vals[i], vecs[:, i]\n",
    "\n",
    "    return vals, vecs\n"
   ]
  },
  {
   "cell_type": "markdown",
   "metadata": {},
   "source": [
    "### Analytic Solution"
   ]
  },
  {
   "cell_type": "code",
   "execution_count": null,
   "metadata": {},
   "outputs": [],
   "source": [
    "def dispersion_zeros(ell,n,a=0,guess=None,imax=20,nk=10,eps=0.1):\n",
    "    j = spherical_jn\n",
    "    def F(k,deriv=False): \n",
    "        return j(ell,k,derivative=deriv) - a*j(ell+2,k,derivative=deriv)\n",
    "    \n",
    "    if guess == None:    \n",
    "        kmax = np.pi*(n+ell/2 + eps)\n",
    "        k = np.linspace(0,kmax,int(kmax*nk))\n",
    "        S = np.sign(F(k))\n",
    "        i = np.where(np.abs(np.roll(S,-1)-S)==2)[0]\n",
    "        k = 0.5*(k[i]+k[i+1])\n",
    "    else: k = guess\n",
    "    \n",
    "    for i in range(imax):\n",
    "        dk =  F(k)/F(k,deriv=True)\n",
    "        k -= dk\n",
    "    \n",
    "    return k\n",
    "\n",
    "# Bessel equation, analytic eigenvalues\n",
    "evalues_analytic = dispersion_zeros(ell,Nmax)\n"
   ]
  },
  {
   "cell_type": "markdown",
   "metadata": {},
   "source": [
    "### Tau Method"
   ]
  },
  {
   "cell_type": "code",
   "execution_count": null,
   "metadata": {},
   "outputs": [],
   "source": [
    "# Bessel equation, tau\n",
    "L = D(-1) @ D(+1)\n",
    "M = -E(+1)**2\n",
    "\n",
    "L = L(Nmax, alpha, ell)\n",
    "M = M(Nmax, alpha, ell).tolil()\n",
    "\n",
    "bc = Zernike.polynomials(dim,Nmax,alpha,ell,+1)\n",
    "L = sparse.vstack([L, bc])\n",
    "M[-1,:] = 0\n",
    "\n",
    "evalues_tau, evectors_tau = eigsort(L.todense(), M.todense())\n",
    "evalues_tau = np.sqrt(evalues_tau.real)"
   ]
  },
  {
   "cell_type": "markdown",
   "metadata": {},
   "source": [
    "### Galerkin Method"
   ]
  },
  {
   "cell_type": "code",
   "execution_count": null,
   "metadata": {},
   "outputs": [],
   "source": [
    "# Bessel equation, galerkin\n",
    "L = D(-1) @ D(+1) @ E(-1)\n",
    "M = -E(+1)**2 @ E(-1)\n",
    "\n",
    "L = L(Nmax, alpha+1, ell)\n",
    "M = M(Nmax, alpha+1, ell)\n",
    "M = M[:Nmax,:]\n",
    "\n",
    "evalues_galerkin, evectors_galerkin = eigsort(L.todense(), M.todense())\n",
    "evalues_galerkin = np.sqrt(evalues_galerkin.real)"
   ]
  },
  {
   "cell_type": "markdown",
   "metadata": {},
   "source": [
    "### Galerkin Method, Self-Adjoint"
   ]
  },
  {
   "cell_type": "code",
   "execution_count": null,
   "metadata": {},
   "outputs": [],
   "source": [
    "# Bessel equation, self adjoint\n",
    "L = D(-1)(Nmax,0,ell+1) @ D(-1)(Nmax,0,ell+1).T\n",
    "M = E(+1)(Nmax,0,ell) @ E(+1)(Nmax,0,ell).T\n",
    "\n",
    "# Check symmetry\n",
    "assert np.max(abs(L - L.T)) < 1e-15\n",
    "assert np.max(abs(M - M.T)) < 1e-15\n",
    "\n",
    "evalues_symmetric, evectors_symmetric = eigsort(L.todense(), M.todense())\n",
    "evalues_symmetric = np.sqrt(evalues_symmetric.real)"
   ]
  },
  {
   "cell_type": "markdown",
   "metadata": {},
   "source": [
    "### Plot the Eigenvalues and Errors"
   ]
  },
  {
   "cell_type": "code",
   "execution_count": null,
   "metadata": {},
   "outputs": [],
   "source": [
    "plt.figure()\n",
    "plt.plot(evalues_tau.real, evalues_tau.imag, '.', label='tau')\n",
    "plt.plot(evalues_galerkin.real, evalues_galerkin.imag, '.', label='galerkin')\n",
    "plt.plot(evalues_symmetric.real, evalues_symmetric.imag, '.', label='symmetric')\n",
    "plt.legend()\n",
    "plt.xlabel('Real(λ)')\n",
    "plt.ylabel('Imag(λ)')\n",
    "plt.title('Bessel Eigenvalues')\n",
    "plt.grid()\n"
   ]
  },
  {
   "cell_type": "code",
   "execution_count": null,
   "metadata": {},
   "outputs": [],
   "source": [
    "def error(vals):\n",
    "    return np.abs(vals - evalues_analytic[:len(vals)])/np.abs(evalues_analytic[:len(vals)])\n",
    "\n",
    "errors_tau = error(evalues_tau)\n",
    "errors_galerkin = error(evalues_galerkin)\n",
    "errors_symmetric = error(evalues_symmetric)\n",
    "\n",
    "plt.figure()\n",
    "plt.semilogy(errors_tau, '.', label='tau')\n",
    "plt.semilogy(errors_galerkin, '.', label='galerkin')\n",
    "plt.semilogy(errors_symmetric, '.', label='symmetric')\n",
    "plt.xlim([0,500])\n",
    "plt.ylim([10**-16,10**0])\n",
    "plt.legend()\n",
    "plt.xlabel('eigenvalue number')\n",
    "plt.ylabel('relative error')\n",
    "plt.title('Bessel Eigenvalue Errors')\n",
    "plt.grid()\n"
   ]
  },
  {
   "cell_type": "code",
   "execution_count": null,
   "metadata": {},
   "outputs": [],
   "source": [
    "mode_index = 24\n",
    "mode_coeffs = evectors_tau[:,mode_index]\n",
    "\n",
    "evalue = evalues_tau[mode_index]\n",
    "error = errors_tau[mode_index]\n",
    "print(f'Mode {mode_index}, eigenvalue {evalue:1.5f}, eigenvalue error: {error:1.5e}')\n",
    "\n",
    "nr = 1000\n",
    "r = np.linspace(0,1,nr)[1:]\n",
    "z = 2*r**2 - 1\n",
    "polys = Zernike.polynomials(dim,Nmax,alpha,ell,z).T\n",
    "mode = polys @ mode_coeffs\n",
    "\n",
    "fig, ax = plt.subplots()\n",
    "ax.plot(r, mode)\n",
    "ax.set_xlabel('r')\n",
    "ax.set_ylabel('f')\n",
    "ax.set_title(f'Bessel Problem, {mode_index}th Eigenmode, l = {ell}')\n",
    "ax.grid(True)\n"
   ]
  },
  {
   "cell_type": "code",
   "execution_count": null,
   "metadata": {},
   "outputs": [],
   "source": []
  }
 ],
 "metadata": {
  "kernelspec": {
   "display_name": "Python 3",
   "language": "python",
   "name": "python3"
  },
  "language_info": {
   "codemirror_mode": {
    "name": "ipython",
    "version": 3
   },
   "file_extension": ".py",
   "mimetype": "text/x-python",
   "name": "python",
   "nbconvert_exporter": "python",
   "pygments_lexer": "ipython3",
   "version": "3.7.6"
  }
 },
 "nbformat": 4,
 "nbformat_minor": 4
}
